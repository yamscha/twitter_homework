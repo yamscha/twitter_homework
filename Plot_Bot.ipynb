{
 "cells": [
  {
   "cell_type": "markdown",
   "metadata": {},
   "source": [
    "# Plot Bot"
   ]
  },
  {
   "cell_type": "code",
   "execution_count": 1,
   "metadata": {},
   "outputs": [],
   "source": [
    "# importing all dependencies\n",
    "\n",
    "import tweepy\n",
    "import pandas as pd\n",
    "import numpy as np\n",
    "import os\n",
    "import matplotlib.pyplot as plt\n",
    "from datetime import datetime\n",
    "import time\n",
    "\n"
   ]
  },
  {
   "cell_type": "code",
   "execution_count": null,
   "metadata": {},
   "outputs": [],
   "source": [
    "# used  appropriate methods from vadersentiment to analyze data"
   ]
  },
  {
   "cell_type": "code",
   "execution_count": 2,
   "metadata": {},
   "outputs": [],
   "source": [
    "\n",
    "from vaderSentiment.vaderSentiment import SentimentIntensityAnalyzer\n",
    "analyzer = SentimentIntensityAnalyzer()\n"
   ]
  },
  {
   "cell_type": "code",
   "execution_count": null,
   "metadata": {},
   "outputs": [],
   "source": [
    "# twitter consumer keys and access tokens initialized in environmental variables"
   ]
  },
  {
   "cell_type": "code",
   "execution_count": 3,
   "metadata": {},
   "outputs": [],
   "source": [
    "consumer_key = os.environ['twitter_consumer_key']\n",
    "consumer_secret=os.environ['twitter_consumer_secret']\n",
    "access_token = os.environ['access_token']\n",
    "access_token_secret=os.environ['access_token_secret']\n",
    "\n",
    "auth = tweepy.OAuthHandler(consumer_key, consumer_secret)\n",
    "auth.set_access_token(access_token, access_token_secret)\n",
    "api = tweepy.API(auth, parser=tweepy.parsers.JSONParser())"
   ]
  },
  {
   "cell_type": "code",
   "execution_count": null,
   "metadata": {},
   "outputs": [],
   "source": []
  },
  {
   "cell_type": "code",
   "execution_count": 5,
   "metadata": {},
   "outputs": [],
   "source": [
    "twitter_user =\"NBCSWarriors\"\n",
    "#\"@sachin_rt\"\n",
    "\n",
    "counter = 1\n",
    "\n",
    "#variable to hold sentiments\n",
    "sentiments = []\n",
    "\n",
    "old_tweet = None\n",
    "compound_list = []\n",
    "positive_list = []\n",
    "negative_list = []\n",
    "neutral_list =  []\n",
    "    \n",
    "#loop through 5 pages if tweets for 100 tweets\n",
    "for page in range(5):\n",
    "    \n",
    "    NBCwarriors_tweets = api.user_timeline(twitter_user,count=100,\n",
    "                                   max_id = old_tweet)\n",
    "    for tweets in NBCwarriors_tweets:\n",
    "        results = analyzer.polarity_scores(tweets['text'])\n",
    "        results['compound']\n",
    "        pos = results['pos']\n",
    "        neg = results['neg']\n",
    "        neu = results['neu']\n",
    "        tweets_ago = counter\n",
    "        \n",
    "        compound_list.append(results['compound'])\n",
    "        positive_list.append(pos)\n",
    "        negative_list.append(neg)\n",
    "        neutral_list.append(neu)\n",
    "        \n",
    "       \n",
    "        counter = counter + 1\n",
    "    old_tweet = int(tweets['id_str']) - 1\n",
    "    \n",
    "     #create a sentiments dictionary\n",
    "    sentiments={'Date':tweets['created_at'],\n",
    "                          \"Compound\":compound_list,\n",
    "                          \"Positive\":positive_list,\n",
    "                          \"Negative\":negative_list,\n",
    "                          \"Neutral\":neutral_list,\n",
    "                           \"Tweets_ago\":counter,\n",
    "                           \"User\":twitter_user }\n",
    "\n"
   ]
  },
  {
   "cell_type": "code",
   "execution_count": 18,
   "metadata": {},
   "outputs": [
    {
     "name": "stdout",
     "output_type": "stream",
     "text": [
      "[0.0, 0.0, 0.264, 0.0, 0.0, 0.37, 0.0, 0.183, 0.0, 0.0, 0.0, 0.14, 0.082, 0.0, 0.0, 0.0, 0.225, 0.211, 0.0, 0.175, 0.109, 0.0, 0.123, 0.0, 0.231, 0.0, 0.0, 0.127, 0.165, 0.0, 0.119, 0.068, 0.308, 0.336, 0.276, 0.293, 0.0, 0.132, 0.187, 0.28, 0.128, 0.057, 0.228, 0.0, 0.0, 0.263, 0.211, 0.105, 0.0, 0.0, 0.0, 0.0, 0.0, 0.0, 0.0, 0.189, 0.0, 0.157, 0.33, 0.251, 0.345, 0.27, 0.0, 0.227, 0.286, 0.0, 0.0, 0.0, 0.184, 0.386, 0.118, 0.0, 0.111, 0.189, 0.13, 0.124, 0.18, 0.298, 0.101, 0.0, 0.118, 0.0, 0.225, 0.0, 0.0, 0.0, 0.0, 0.322, 0.285, 0.0, 0.255, 0.167, 0.17, 0.0, 0.0, 0.0, 0.0, 0.0, 0.0, 0.0]\n"
     ]
    }
   ],
   "source": [
    "print(positive_list)"
   ]
  },
  {
   "cell_type": "code",
   "execution_count": 6,
   "metadata": {},
   "outputs": [
    {
     "data": {
      "text/html": [
       "<div>\n",
       "<style scoped>\n",
       "    .dataframe tbody tr th:only-of-type {\n",
       "        vertical-align: middle;\n",
       "    }\n",
       "\n",
       "    .dataframe tbody tr th {\n",
       "        vertical-align: top;\n",
       "    }\n",
       "\n",
       "    .dataframe thead th {\n",
       "        text-align: right;\n",
       "    }\n",
       "</style>\n",
       "<table border=\"1\" class=\"dataframe\">\n",
       "  <thead>\n",
       "    <tr style=\"text-align: right;\">\n",
       "      <th></th>\n",
       "      <th>Compound</th>\n",
       "      <th>Date</th>\n",
       "      <th>Negative</th>\n",
       "      <th>Neutral</th>\n",
       "      <th>Positive</th>\n",
       "      <th>Tweets_ago</th>\n",
       "      <th>User</th>\n",
       "    </tr>\n",
       "  </thead>\n",
       "  <tbody>\n",
       "    <tr>\n",
       "      <th>0</th>\n",
       "      <td>0.0000</td>\n",
       "      <td>Tue Feb 13 03:47:15 +0000 2018</td>\n",
       "      <td>0.000</td>\n",
       "      <td>1.000</td>\n",
       "      <td>0.000</td>\n",
       "      <td>501</td>\n",
       "      <td>NBCSWarriors</td>\n",
       "    </tr>\n",
       "    <tr>\n",
       "      <th>1</th>\n",
       "      <td>-0.2023</td>\n",
       "      <td>Tue Feb 13 03:47:15 +0000 2018</td>\n",
       "      <td>0.185</td>\n",
       "      <td>0.685</td>\n",
       "      <td>0.130</td>\n",
       "      <td>501</td>\n",
       "      <td>NBCSWarriors</td>\n",
       "    </tr>\n",
       "    <tr>\n",
       "      <th>2</th>\n",
       "      <td>0.0000</td>\n",
       "      <td>Tue Feb 13 03:47:15 +0000 2018</td>\n",
       "      <td>0.000</td>\n",
       "      <td>1.000</td>\n",
       "      <td>0.000</td>\n",
       "      <td>501</td>\n",
       "      <td>NBCSWarriors</td>\n",
       "    </tr>\n",
       "    <tr>\n",
       "      <th>3</th>\n",
       "      <td>0.3400</td>\n",
       "      <td>Tue Feb 13 03:47:15 +0000 2018</td>\n",
       "      <td>0.000</td>\n",
       "      <td>0.854</td>\n",
       "      <td>0.146</td>\n",
       "      <td>501</td>\n",
       "      <td>NBCSWarriors</td>\n",
       "    </tr>\n",
       "    <tr>\n",
       "      <th>4</th>\n",
       "      <td>0.0000</td>\n",
       "      <td>Tue Feb 13 03:47:15 +0000 2018</td>\n",
       "      <td>0.000</td>\n",
       "      <td>1.000</td>\n",
       "      <td>0.000</td>\n",
       "      <td>501</td>\n",
       "      <td>NBCSWarriors</td>\n",
       "    </tr>\n",
       "  </tbody>\n",
       "</table>\n",
       "</div>"
      ],
      "text/plain": [
       "   Compound                            Date  Negative  Neutral  Positive  \\\n",
       "0    0.0000  Tue Feb 13 03:47:15 +0000 2018     0.000    1.000     0.000   \n",
       "1   -0.2023  Tue Feb 13 03:47:15 +0000 2018     0.185    0.685     0.130   \n",
       "2    0.0000  Tue Feb 13 03:47:15 +0000 2018     0.000    1.000     0.000   \n",
       "3    0.3400  Tue Feb 13 03:47:15 +0000 2018     0.000    0.854     0.146   \n",
       "4    0.0000  Tue Feb 13 03:47:15 +0000 2018     0.000    1.000     0.000   \n",
       "\n",
       "   Tweets_ago          User  \n",
       "0         501  NBCSWarriors  \n",
       "1         501  NBCSWarriors  \n",
       "2         501  NBCSWarriors  \n",
       "3         501  NBCSWarriors  \n",
       "4         501  NBCSWarriors  "
      ]
     },
     "execution_count": 6,
     "metadata": {},
     "output_type": "execute_result"
    }
   ],
   "source": [
    "nbcwarriors_sentiments= pd.DataFrame.from_dict(sentiments)\n",
    "nbcwarriors_sentiments.head()"
   ]
  },
  {
   "cell_type": "code",
   "execution_count": 11,
   "metadata": {},
   "outputs": [
    {
     "data": {
      "image/png": "[encoded data removed]",
      "text/plain": [
       "<matplotlib.figure.Figure at 0x147c8f69f28>"
      ]
     },
     "metadata": {},
     "output_type": "display_data"
    }
   ],
   "source": [
    "plt.plot(np.arange(len(nbcwarriors_sentiments[\"Compound\"])),\n",
    "                   nbcwarriors_sentiments[\"Compound\"],marker = 'o', color='blue', linewidth=0.5,alpha=0.8)\n",
    "now = datetime.now()\n",
    "now = now.strftime(\"%Y-%m-%d %H:%M\")\n",
    "plt.title(\"Sentiment Analysis of Tweets ({}) for {}\".format(now, twitter_user))\n",
    "plt.ylabel(\"Tweet Polarity\")\n",
    "plt.xlabel(\"Tweets Ago\")\n",
    "plt.savefig(\"NBCSWarriors.png\")\n",
    "plt.show()\n",
    "\n",
    "         \n",
    "         "
   ]
  },
  {
   "cell_type": "code",
   "execution_count": 15,
   "metadata": {},
   "outputs": [],
   "source": [
    "# Created a news_mood function to update twitter status with media \n",
    "def news_mood():\n",
    "    try:\n",
    "        api.update_with_media(\"NBCSWarriors.png\")\n",
    "        print(\"Tweeted media successfully\")\n",
    "    except Exception as e:\n",
    "        print(e)\n",
    "    "
   ]
  },
  {
   "cell_type": "code",
   "execution_count": 17,
   "metadata": {},
   "outputs": [
    {
     "name": "stdout",
     "output_type": "stream",
     "text": [
      "Tweeted media successfully\n",
      "Tweeted media successfully\n",
      "Tweeted media successfully\n",
      "Tweeted media successfully\n",
      "Tweeted media successfully\n"
     ]
    }
   ],
   "source": [
    "# Set timer to run every minute for 5 minutes max\n",
    "interval = 60 #seconds\n",
    "t_end = time.time() + interval * 5\n",
    "while time.time() < t_end:\n",
    "    news_mood()\n",
    "    time.sleep(interval)"
   ]
  },
  {
   "cell_type": "code",
   "execution_count": null,
   "metadata": {},
   "outputs": [],
   "source": []
  }
 ],
 "metadata": {
  "kernelspec": {
   "display_name": "Python [conda env:pythondata]",
   "language": "python",
   "name": "conda-env-pythondata-py"
  },
  "language_info": {
   "codemirror_mode": {
    "name": "ipython",
    "version": 3
   },
   "file_extension": ".py",
   "mimetype": "text/x-python",
   "name": "python",
   "nbconvert_exporter": "python",
   "pygments_lexer": "ipython3",
   "version": "3.6.4"
  }
 },
 "nbformat": 4,
 "nbformat_minor": 2
}
